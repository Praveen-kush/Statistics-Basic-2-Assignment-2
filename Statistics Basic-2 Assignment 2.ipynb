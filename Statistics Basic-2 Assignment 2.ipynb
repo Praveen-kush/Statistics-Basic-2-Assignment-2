{
 "cells": [
  {
   "cell_type": "raw",
   "id": "71dad2fe",
   "metadata": {},
   "source": [
    "Q1. What are the three measures of central tendency?"
   ]
  },
  {
   "cell_type": "markdown",
   "id": "522f4635",
   "metadata": {},
   "source": [
    "Ans:"
   ]
  },
  {
   "cell_type": "markdown",
   "id": "7d5c1a3b",
   "metadata": {},
   "source": [
    "The three measures of central tendency are:\n",
    "\n",
    "Mean: The average of all data points.\n",
    "Median: The middle value when data points are ordered.\n",
    "Mode: The most frequently occurring value(s)."
   ]
  },
  {
   "cell_type": "raw",
   "id": "e49c84e3",
   "metadata": {},
   "source": [
    "Q2. What is the difference between the mean, median, and mode? How are they used to measure the central tendency of a dataset?"
   ]
  },
  {
   "cell_type": "markdown",
   "id": "46e007a7",
   "metadata": {},
   "source": [
    "Ans:"
   ]
  },
  {
   "cell_type": "markdown",
   "id": "a503f812",
   "metadata": {},
   "source": [
    " mean, median, and mode differ and their use in measuring central tendency:\n",
    "\n",
    "Mean is used when you want the average of all data points. It’s calculated by adding all values and dividing by the number of values. It’s sensitive to outliers.\n",
    "\n",
    "Median is preferred when you need the middle value to avoid the effect of outliers. It’s found by arranging data points in order and picking the middle one.\n",
    "\n",
    "Mode is useful when you want to know the most common value. It’s simply the value that appears most frequently.\n",
    "\n",
    "Each measure provides a different perspective on the dataset’s central point, and the choice depends on the data’s nature and distribution."
   ]
  },
  {
   "cell_type": "raw",
   "id": "ade44593",
   "metadata": {},
   "source": [
    "Q3. Measure the three measures of central tendency for the given height data:\n",
    "[178,177,176,177,178.2,178,175,179,180,175,178.9,176.2,177,172.5,178,176.5]"
   ]
  },
  {
   "cell_type": "markdown",
   "id": "c87c63bc",
   "metadata": {},
   "source": [
    "Ans:"
   ]
  },
  {
   "cell_type": "raw",
   "id": "b4ded7a5",
   "metadata": {},
   "source": [
    "The mean, median, and mode for the given height data: \n",
    "Mean (Average):\n",
    "\n",
    "Add all the heights together and divide by the number of heights.\n",
    "Mean = ( \\frac{178 + 177 + 176 + 177 + 178.2 + 178 + 175 + 179 + 180 + 175 + 178.9 + 176.2 + 177 + 172.5 + 178 + 176.5}{16} )\n",
    "Mean = ( \\frac{2837.3}{16} )\n",
    "Mean ≈ 177.33 cm\n",
    "Median (Middle Value):\n",
    "\n",
    "Arrange the heights in ascending order and find the middle value.\n",
    "Ordered Data: [172.5, 175, 175, 176, 176.2, 176.5, 177, 177, 177, 178, 178, 178, 178.2, 178.9, 179, 180]\n",
    "Since there are an even number of data points (16), the median will be the average of the two middle numbers (8th and 9th).\n",
    "Median = ( \\frac{177 + 177}{2} )\n",
    "Median = 177 cm\n",
    "Mode (Most Frequent Value):\n",
    "\n",
    "Identify the height that appears most frequently.\n",
    "Mode = 178 cm (appears four times)"
   ]
  },
  {
   "cell_type": "raw",
   "id": "466901d3",
   "metadata": {},
   "source": [
    "Q4. Find the standard deviation for the given data:\n",
    "[178,177,176,177,178.2,178,175,179,180,175,178.9,176.2,177,172.5,178,176.5]"
   ]
  },
  {
   "cell_type": "markdown",
   "id": "a36dc795",
   "metadata": {},
   "source": [
    "Ans:"
   ]
  },
  {
   "cell_type": "raw",
   "id": "0d11f9d6",
   "metadata": {},
   "source": [
    "find the standard deviation:\n",
    "Calculate the mean (average) of the data.\n",
    "Subtract the mean from each data point and square the result.\n",
    "Find the mean of these squared differences.\n",
    "Take the square root of this mean.\n",
    "We already calculated the mean as 177.33 cm.\n",
    "\n",
    "Now, let’s calculate the squared differences, their mean, and then the square root:\n",
    "\n",
    "Squared differences from the mean: ( (178 - 177.33)^2, (177 - 177.33)^2, \\ldots, (176.5 - 177.33)^2 )\n",
    "\n",
    "Sum of squared differences: ( \\sum (x_i - \\text{mean})^2 )\n",
    "\n",
    "Mean of squared differences (Variance): ( \\frac{\\sum (x_i - \\text{mean})^2}{n} )\n",
    "\n",
    "Standard Deviation (SD): ( SD = \\sqrt{\\text{Variance}} )\n",
    "\n",
    "Let’s calculate it:\n",
    "\n",
    "( SD = \\sqrt{\\frac{(178 - 177.33)^2 + (177 - 177.33)^2 + … + (176.5 - 177.33)^2}{16}} )\n",
    "\n",
    "( SD = \\sqrt{\\frac{(0.67)^2 + (-0.33)^2 + … + (-0.83)^2}{16}} )\n",
    "\n",
    "( SD = \\sqrt{\\frac{0.4489 + 0.1089 + … + 0.6889}{16}} )\n",
    "\n",
    "( SD = \\sqrt{\\frac{sum\\ of\\ all\\ squared\\ differences}{16}} )\n",
    "\n",
    "After calculating the sum of all squared differences and dividing by 16, take the square root to find the standard deviation."
   ]
  },
  {
   "cell_type": "raw",
   "id": "9f445e2b",
   "metadata": {},
   "source": [
    "Q5. How are measures of dispersion such as range, variance, and standard deviation used to describe the spread of a dataset? Provide an example."
   ]
  },
  {
   "cell_type": "markdown",
   "id": "bfe7dad2",
   "metadata": {},
   "source": [
    "Ans:"
   ]
  },
  {
   "cell_type": "raw",
   "id": "b737d8aa",
   "metadata": {},
   "source": [
    "Measures of dispersion are statistical tools used to describe the spread or variability within a dataset. \n",
    "Range: The simplest measure of dispersion, it is the difference between the highest and lowest values in the dataset. It gives a quick sense of the spread but can be affected by outliers.\n",
    "\n",
    "Variance: It measures how far each number in the set is from the mean and thus from every other number in the set. It’s calculated by averaging the squared differences from the mean.\n",
    "\n",
    "Standard Deviation (SD): It is the square root of the variance and provides a measure of the average distance from the mean. A low SD indicates that the data points tend to be close to the mean, while a high SD indicates that the data points are spread out over a wider range of values.\n",
    "\n",
    "Example: Consider a dataset representing the ages of a group of school children: [7, 9, 10, 10, 11].\n",
    "\n",
    "Mean: ( \\frac{7 + 9 + 10 + 10 + 11}{5} = 9.4 ) years\n",
    "Range: ( 11 - 7 = 4 ) years\n",
    "Variance: ( \\frac{(7 - 9.4)^2 + (9 - 9.4)^2 + (10 - 9.4)^2 + (10 - 9.4)^2 + (11 - 9.4)^2}{5} )\n",
    "Standard Deviation: ( \\sqrt{\\text{Variance}} )"
   ]
  },
  {
   "cell_type": "raw",
   "id": "db734ac6",
   "metadata": {},
   "source": [
    "Q6. What is a Venn diagram?"
   ]
  },
  {
   "cell_type": "markdown",
   "id": "e9c04e03",
   "metadata": {},
   "source": [
    "Ans:"
   ]
  },
  {
   "cell_type": "markdown",
   "id": "a7f9187d",
   "metadata": {},
   "source": [
    "A Venn diagram is a visual tool used to represent and compare sets. It consists of overlapping circles, each representing a set, where the common area between the circles represents the intersection of the sets, showing shared elements. The areas that do not overlap represent elements that are unique to each set."
   ]
  },
  {
   "cell_type": "raw",
   "id": "5b5ca0b0",
   "metadata": {},
   "source": [
    "Q7. For the two given sets A = (2,3,4,5,6,7) & B = (0,2,6,8,10). Find:\n",
    "(i) A intersection B\n",
    "(ii) A ⋃ B"
   ]
  },
  {
   "cell_type": "markdown",
   "id": "9af4a179",
   "metadata": {},
   "source": [
    "Ans:"
   ]
  },
  {
   "cell_type": "raw",
   "id": "8edbd652",
   "metadata": {},
   "source": [
    "(i) ( A \\cap B ) (A intersection B) is the set of elements that are common to both sets A and B. For the given sets, ( A \\cap B = {2, 6} ).\n",
    "\n",
    "(ii) ( A \\cup B ) (A union B) is the set of all elements that are in A, in B, or in both. For the given sets, ( A \\cup B = {0, 2, 3, 4, 5, 6, 7, 8,10})."
   ]
  },
  {
   "cell_type": "raw",
   "id": "bed30c86",
   "metadata": {},
   "source": [
    "Q8. What do you understand about skewness in data?"
   ]
  },
  {
   "cell_type": "markdown",
   "id": "3a6b39f6",
   "metadata": {},
   "source": [
    "Ans:"
   ]
  },
  {
   "cell_type": "markdown",
   "id": "65737a1f",
   "metadata": {},
   "source": [
    "Skewness is a measure of the asymmetry of the probability distribution of a real-valued random variable about its mean. It can be:\n",
    "\n",
    "- **Positive skewness**: When the tail on the right side of the distribution is longer or fatter than the left side. This indicates that the data has a longer tail to the right of the peak, meaning there are a minority of higher values.\n",
    "\n",
    "- **Negative skewness**: When the tail on the left side of the distribution is longer or fatter than the right side. This indicates that the data has a longer tail to the left of the peak, meaning there are a minority of lower values.\n",
    "\n",
    "- **Zero skewness**: When the values are symmetrically distributed, meaning the tails on both sides of the peak are equal.\n"
   ]
  },
  {
   "cell_type": "raw",
   "id": "24759bae",
   "metadata": {},
   "source": [
    "Q9. If a data is right skewed then what will be the position of median with respect to mean?"
   ]
  },
  {
   "cell_type": "markdown",
   "id": "078681ca",
   "metadata": {},
   "source": [
    "Ans:"
   ]
  },
  {
   "cell_type": "markdown",
   "id": "f8221aab",
   "metadata": {},
   "source": [
    "In a right-skewed data set, the median will be to the left of the mean.\n",
    "\n",
    "Here's why:\n",
    "\n",
    "Right-skewed data has a tail extending towards larger values.expand_more\n",
    "The mean considers all the data points, including the extreme values on the right.\n",
    "These extreme values pull the mean towards the right.expand_more\n",
    "The median is the \"middle\" value, unaffected by the extreme values as much as the mean.\n",
    "\n"
   ]
  },
  {
   "cell_type": "raw",
   "id": "e9084748",
   "metadata": {},
   "source": [
    "Q10. Explain the difference between covariance and correlation. How are these measures used in statistical analysis?"
   ]
  },
  {
   "cell_type": "markdown",
   "id": "82d170d2",
   "metadata": {},
   "source": [
    "Ans:"
   ]
  },
  {
   "cell_type": "markdown",
   "id": "8aed32a3",
   "metadata": {},
   "source": [
    "Covariance and correlation are both used in statistics to understand the relationship between two variables, but they differ in some key aspects:\n",
    "\n",
    "Covariance:\n",
    "\n",
    "Measures: The direction and extent to which two variables change together.\n",
    "Values: Can range from negative infinity to positive infinity.\n",
    "Units: Depends on the units of the original variables (e.g., meters for height and years for experience).\n",
    "Interpretation:\n",
    "Positive covariance: When one variable increases, the other tends to increase as well (or vice versa).\n",
    "Negative covariance: When one variable increases, the other tends to decrease (or vice versa).\n",
    "Zero covariance: No linear relationship between the variables.\n",
    "Correlation:\n",
    "\n",
    "Measures: The strength and direction of the linear relationship between two variables.\n",
    "Values: Range from -1 (perfect negative correlation) to +1 (perfect positive correlation), with 0 indicating no linear correlation.\n",
    "Units: Unitless (standardized value).\n",
    "Interpretation: Similar to covariance, but the value indicates the strength of the relationship.\n",
    "Key Differences:\n",
    "\n",
    "Standardization: Covariance is not standardized, making it difficult to compare across datasets with different units. Correlation is standardized, allowing for easier comparison.\n",
    "Strength: Covariance only tells you about the direction, while correlation tells you both the direction and strength of the relationship.\n",
    "Uses in Statistical Analysis:\n",
    "\n",
    "Identifying relationships: Both covariance and correlation can help identify whether two variables are linearly related.\n",
    "Predictive modeling: If a correlation is found, it can be used to build models to predict one variable based on the other.\n",
    "Understanding data: Covariance and correlation can help reveal underlying patterns and dependencies between variables.\n",
    "Choosing between covariance and correlation:\n",
    "\n",
    "Use covariance if you need to know the direction of the change and the units are meaningful.\n",
    "Use correlation if you want to compare the strength of relationships between different datasets or variables with different units."
   ]
  },
  {
   "cell_type": "raw",
   "id": "c8570120",
   "metadata": {},
   "source": [
    "Q11. What is the formula for calculating the sample mean? Provide an example calculation for a\n",
    "dataset."
   ]
  },
  {
   "cell_type": "markdown",
   "id": "9bb1eec4",
   "metadata": {},
   "source": [
    "Ans:"
   ]
  },
  {
   "cell_type": "raw",
   "id": "ac29823f",
   "metadata": {},
   "source": [
    "The formula for calculating the sample mean is:\n",
    "\n",
    "x̄ = Σ(xi) / n\n",
    "\n",
    "where:\n",
    "\n",
    "x̄ (pronounced \"x bar\") represents the sample mean.\n",
    "Σ (capital sigma) is the summation symbol, which means \"add up\".\n",
    "xi (x subscript i) represents each individual value in your data set.\n",
    "n represents the total number of values in your data set (sample size).\n",
    "Example Calculation:\n",
    "\n",
    "Let's say you have a data set of exam scores for 5 students: 75, 82, 90, 88, and 65.\n",
    "\n",
    "Σ(xi): Add up all the exam scores: 75 + 82 + 90 + 88 + 65 = 400\n",
    "n: There are 5 students (data points).\n",
    "x̄: Plug the values into the formula: x̄ = 400 / 5 = 80\n",
    "Therefore, the average exam score (sample mean) for this group is 80."
   ]
  },
  {
   "cell_type": "raw",
   "id": "d5333d96",
   "metadata": {},
   "source": [
    "Q12. For a normal distribution data what is the relationship between its measure of central tendency?"
   ]
  },
  {
   "cell_type": "markdown",
   "id": "2f445690",
   "metadata": {},
   "source": [
    "Ans:"
   ]
  },
  {
   "cell_type": "markdown",
   "id": "865a03d1",
   "metadata": {},
   "source": [
    "In a normal distribution, all three common measures of central tendency – mean, median, and mode – coincide. This means they all have the same value.\n",
    "\n",
    "Here's why:\n",
    "\n",
    "A normal distribution is symmetrical, with a bell-shaped curve perfectly balanced around a central peak.\n",
    "The mean represents the average of all data points.\n",
    "The median is the \"middle\" value when the data is ordered from least to greatest.\n",
    "The mode is the most frequent value in the data set.\n",
    "Since the normal distribution is symmetrical, the center point (where the most data accumulates) coincides with the average value (mean) and the middle value (median). Additionally, in a normal distribution, there's a high probability of having the most frequent value (mode) around the center as well.\n",
    "\n",
    "Therefore, in a normal distribution:\n",
    "\n",
    "Mean = Median = Mode"
   ]
  },
  {
   "cell_type": "raw",
   "id": "30cfb1f3",
   "metadata": {},
   "source": [
    "Q13. How is covariance different from correlation?"
   ]
  },
  {
   "cell_type": "markdown",
   "id": "90b5c488",
   "metadata": {},
   "source": [
    "Ans:"
   ]
  },
  {
   "cell_type": "markdown",
   "id": "6467c8e0",
   "metadata": {},
   "source": [
    "Covariance and correlation might seem interchangeable at first glance, but they capture slightly different aspects of the relationship between two variables. Here's a breakdown of their key differences:\n",
    "\n",
    "Covariance:\n",
    "\n",
    "Measures: The direction and extent to which two variables change together.\n",
    "Values: Can range from negative infinity to positive infinity.\n",
    "Units: Depends on the units of the original variables (e.g., meters for height and years for experience).\n",
    "Interpretation:\n",
    "Positive covariance: When one variable increases, the other tends to increase as well (or vice versa).\n",
    "Negative covariance: When one variable increases, the other tends to decrease (or vice versa).\n",
    "Zero covariance: No linear relationship between the variables.\n",
    "Correlation:\n",
    "\n",
    "Measures: The strength and direction of the linear relationship between two variables.\n",
    "Values: Range from -1 (perfect negative correlation) to +1 (perfect positive correlation), with 0 indicating no linear correlation.\n",
    "Units: Unitless (standardized value).\n",
    "Interpretation: Similar to covariance, but the value indicates the strength of the relationship. A value closer to -1 or +1 indicates a stronger relationship.\n",
    "Key Differences:\n",
    "\n",
    "Standardization:\n",
    "\n",
    "Covariance is not standardized, making it difficult to compare the strength of relationships between variables with different units.\n",
    "Correlation is a standardized value (between -1 and 1), allowing for easier comparison across different datasets.\n",
    "Strength vs. Direction:\n",
    "\n",
    "Covariance only tells you about the direction of the change (positive, negative, or none).\n",
    "Correlation provides both the direction and the strength of the linear relationship.\n",
    "Example:\n",
    "\n",
    "Imagine you have data on shoe size (cm) and running speed (seconds per kilometer).\n",
    "\n",
    "A positive covariance would indicate that as shoe size increases, running speed tends to increase as well (or vice versa).\n",
    "A negative covariance would suggest that larger shoe sizes are associated with slower running times (or vice versa).\n",
    "However, covariance wouldn't tell you how strong this relationship is.\n",
    "Correlation would take this a step further. It would tell you not only the direction (positive or negative) but also the strength of the association between shoe size and running speed. A correlation close to -1 or +1 would indicate a strong relationship, while a value closer to 0 would suggest a weaker or no linear relationship.]"
   ]
  },
  {
   "cell_type": "raw",
   "id": "5e826130",
   "metadata": {},
   "source": [
    "Q14. How do outliers affect measures of central tendency and dispersion? Provide an example."
   ]
  },
  {
   "cell_type": "markdown",
   "id": "d6268fab",
   "metadata": {},
   "source": [
    "Ans:"
   ]
  },
  {
   "cell_type": "markdown",
   "id": "85b0b1df",
   "metadata": {},
   "source": [
    "Outliers can significantly affect measures of central tendency and dispersion, depending on the specific measure used. Here's a breakdown:\n",
    "\n",
    "Measures of Central Tendency:\n",
    "\n",
    "Mean: Outliers have a substantial impact on the mean. Since the mean is calculated by summing all values and dividing by the number of data points, extreme values (outliers) can pull the mean in their direction.\n",
    "Median: Less affected by outliers. The median is the \"middle\" value, so extreme values on either side have less influence unless they completely dominate the center of the data.\n",
    "Mode: Least affected by outliers. The mode is the most frequent value, and outliers wouldn't change that unless they become the most frequent value themselves (unlikely).\n",
    "Example:\n",
    "\n",
    "Imagine a dataset representing exam scores for 10 students: {75, 82, 90, 88, 65, 100 (outlier)}.\n",
    "\n",
    "Mean: The outlier (100) will inflate the mean compared to a dataset without it.\n",
    "Median: The median will likely remain close to 88, representing the \"middle\" score even with the outlier.\n",
    "Mode: The mode would likely still be between 75 and 90, depending on the frequency of those scores, unaffected by the single high score.\n",
    "Measures of Dispersion:\n",
    "\n",
    "Range: Outliers will increase the range, as the range is simply the difference between the highest and lowest values.\n",
    "Variance and Standard Deviation: Both are sensitive to outliers. Since they consider the squared deviations from the mean, extreme values will have a larger impact on the overall spread, inflating the variance and standard deviation.\n",
    "Overall:\n",
    "\n",
    "When analyzing data, it's crucial to consider the presence of outliers and choose appropriate measures. The mean can be misleading if outliers exist, while the median and mode can provide a more robust picture of the central tendency."
   ]
  },
  {
   "cell_type": "code",
   "execution_count": null,
   "id": "d9d67dc5",
   "metadata": {},
   "outputs": [],
   "source": []
  }
 ],
 "metadata": {
  "kernelspec": {
   "display_name": "Python 3 (ipykernel)",
   "language": "python",
   "name": "python3"
  },
  "language_info": {
   "codemirror_mode": {
    "name": "ipython",
    "version": 3
   },
   "file_extension": ".py",
   "mimetype": "text/x-python",
   "name": "python",
   "nbconvert_exporter": "python",
   "pygments_lexer": "ipython3",
   "version": "3.11.9"
  }
 },
 "nbformat": 4,
 "nbformat_minor": 5
}
